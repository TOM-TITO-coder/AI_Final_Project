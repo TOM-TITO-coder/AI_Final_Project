{
 "cells": [
  {
   "cell_type": "markdown",
   "metadata": {},
   "source": [
    "### "
   ]
<<<<<<< HEAD
  },
  {
   "cell_type": "markdown",
   "metadata": {},
   "source": [
    "## Final Project\n",
    "### TOPIC: Credit Card Fraud Detection \n",
    "\n",
    "#### Team Member:\n",
    "1. TOM TITO\n",
    "2. TEANG SREYROTH\n",
    "3. SORPORN SOVORTEY\n",
    "4. POM MOUYLANG\n",
    "5. DIN PICH\n",
    "6. VEASNA DARA"
   ]
  },
  {
   "cell_type": "markdown",
   "metadata": {},
   "source": [
    "* Goal: Identify fraudulent transactions from credit card data using machine learning.\n",
    "* Challenges:\n",
    "    * Imbalanced dataset: Fraudulent transactions are much less frequent than genuine ones\n",
    "    * Real-time prediction: Detection systems need to process transactions quickly."
   ]
  },
  {
   "cell_type": "markdown",
   "metadata": {},
   "source": []
=======
>>>>>>> eea15de04b94189875dad84e0282d81079800c95
  }
 ],
 "metadata": {
  "language_info": {
   "name": "python"
  }
 },
 "nbformat": 4,
 "nbformat_minor": 2
}
